{
 "cells": [
  {
   "cell_type": "markdown",
   "metadata": {
    "direction": "rtl"
   },
   "source": [
    "پروژه صفر\n",
    "آشنایی با \"هوش مصنوعی\"\n",
    "هدف از انجام پروژه آشنایی با تعدادی از کتاب های پایتون در زمینه تحلیل داده های یک dataset و آنالیز و پیشبینی دیتا ها به کمک این کتابخانه ها."
   ]
  },
  {
   "cell_type": "markdown",
   "metadata": {},
   "source": [
    "شرح پروژه :\n"
   ]
  },
  {
   "cell_type": "markdown",
   "metadata": {},
   "source": [
    "دیتای ورودی به پروژه ما  فایل csv است که در کنار پروژه قرار می گیرد. و به منظور تحلیل داده های آن و انجام پیش بینی آماری برروی آن از آن استفاده میکنیم."
   ]
  },
  {
   "cell_type": "markdown",
   "metadata": {},
   "source": [
    "شرح قسمت اول :\n",
    "همینطور که در خروجی گرفته شده معلوم است. ابتدا فایل csv را با استفاده از تابع read_csv میخوانیم که نتیجه حاصل که یک dataframe است به ما برمیگرداند سپس توابع خواسته شده را برروی این dataframe صدا میکنیم. به ترتیب تابع tail داده هارا از انتها برای ما میاورد و ما میتوانیم با پاس دادن یک عدد تعداد آن را مشخص کنیم.\n",
    "تابع head دقیقا مانند tail می باشد با این تفاوت که دیتا ها را از ابتدا می آورد و تابع describe اطلاعاتی راجع به دیتاهای عددی این dataset در اختیار ما قرار میدهد.\n",
    "همینطور که از خروجی پیداست تابع  tail برای ما 5 داده آخر را برگردانده که مقدار default آن می باشد.\n",
    "تابع head چون به آن عدد 1 داده ایم تنها اولین سطر را برای ما برگردانده است.\n",
    "تابع describe اطلاعاتی از ستون های عددی مانند min و max و میانگین و... به ما برمی گرداند.\n"
   ]
  },
  {
   "cell_type": "code",
   "execution_count": 8,
   "metadata": {},
   "outputs": [
    {
     "name": "stdout",
     "output_type": "stream",
     "text": [
      "     Unnamed: 0  Daily Time Spent on Site   Age  Area Income  \\\n",
      "995         995                     72.97  30.0     71384.57   \n",
      "996         996                     51.30  45.0     67782.17   \n",
      "997         997                     51.63  51.0     42415.72   \n",
      "998         998                     55.55  19.0     41920.79   \n",
      "999         999                       NaN  26.0     29875.80   \n",
      "\n",
      "     Daily Internet Usage                         Ad Topic Line  \\\n",
      "995                208.58         Fundamental modular algorithm   \n",
      "996                134.42       Grass-roots cohesive monitoring   \n",
      "997                120.37          Expanded intangible solution   \n",
      "998                187.95  Proactive bandwidth-monitored policy   \n",
      "999                178.35       Virtual 5thgeneration emulation   \n",
      "\n",
      "              City  Gender                 Country            Timestamp  \\\n",
      "995      Duffystad    Male                 Lebanon  2016-02-11 21:49:00   \n",
      "996    New Darlene    Male  Bosnia and Herzegovina  2016-04-22 02:07:01   \n",
      "997  South Jessica    Male                Mongolia  2016-02-01 17:24:57   \n",
      "998    West Steven  Female               Guatemala  2016-03-24 02:35:54   \n",
      "999    Ronniemouth  Female                  Brazil  2016-06-03 21:43:21   \n",
      "\n",
      "     Clicked on Ad  \n",
      "995            1.0  \n",
      "996            1.0  \n",
      "997            1.0  \n",
      "998            0.0  \n",
      "999            1.0  \n",
      "   Unnamed: 0  Daily Time Spent on Site   Age  Area Income  \\\n",
      "0           0                     68.95  35.0      61833.9   \n",
      "\n",
      "   Daily Internet Usage                       Ad Topic Line         City  \\\n",
      "0                256.09  Cloned 5thgeneration orchestration  Wrightburgh   \n",
      "\n",
      "   Gender  Country            Timestamp  Clicked on Ad  \n",
      "0  Female  Tunisia  2016-03-27 00:53:11            0.0  \n",
      "        Unnamed: 0  Daily Time Spent on Site         Age   Area Income  \\\n",
      "count  1000.000000                907.000000  979.000000   1000.000000   \n",
      "mean    499.500000                 64.794818   36.009193  55000.000080   \n",
      "std     288.819436                 15.954841    8.783636  13414.634022   \n",
      "min       0.000000                 32.600000   19.000000  13996.500000   \n",
      "25%     249.750000                 50.615000   29.000000  47031.802500   \n",
      "50%     499.500000                 67.940000   35.000000  57012.300000   \n",
      "75%     749.250000                 78.555000   42.000000  65470.635000   \n",
      "max     999.000000                 91.430000   61.000000  79484.800000   \n",
      "\n",
      "       Daily Internet Usage  Clicked on Ad  \n",
      "count            913.000000     832.000000  \n",
      "mean             179.751271       0.496394  \n",
      "std               43.957934       0.500288  \n",
      "min              104.780000       0.000000  \n",
      "25%              138.550000       0.000000  \n",
      "50%              183.480000       0.000000  \n",
      "75%              217.850000       1.000000  \n",
      "max              269.960000       1.000000  \n"
     ]
    }
   ],
   "source": [
    "import pandas as pa\n",
    "dataframe = pa.read_csv(\"advertising_dataset.csv\")\n",
    "tail = dataframe.tail()\n",
    "head = dataframe.head(1)\n",
    "describe = dataframe.describe()\n",
    "print(tail)\n",
    "print(head)\n",
    "print(describe)"
   ]
  }
 ],
 "metadata": {
  "direction": "rtl",
  "kernelspec": {
   "display_name": "Python 3",
   "language": "python",
   "name": "python3"
  },
  "language_info": {
   "codemirror_mode": {
    "name": "ipython",
    "version": 3
   },
   "file_extension": ".py",
   "mimetype": "text/x-python",
   "name": "python",
   "nbconvert_exporter": "python",
   "pygments_lexer": "ipython3",
   "version": "3.8.2"
  }
 },
 "nbformat": 4,
 "nbformat_minor": 2
}
